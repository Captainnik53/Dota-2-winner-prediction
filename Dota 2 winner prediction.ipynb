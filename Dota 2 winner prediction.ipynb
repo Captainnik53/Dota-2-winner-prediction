{
 "cells": [
  {
   "cell_type": "code",
   "execution_count": 1,
   "metadata": {},
   "outputs": [],
   "source": [
    "# Importing all the libraries \n",
    "import numpy as np\n",
    "from scipy import stats\n",
    "from sklearn.preprocessing import StandardScaler\n",
    "import datetime\n",
    "from sklearn.model_selection import KFold\n",
    "from sklearn.ensemble import GradientBoostingClassifier\n",
    "from sklearn.linear_model import LogisticRegression\n",
    "from sklearn.metrics import roc_auc_score\n",
    "import numpy as np\n",
    "import pandas as pd\n",
    "from joblib import dump, load\n",
    "import matplotlib.pyplot as plt\n",
    "from statsmodels.graphics.mosaicplot import mosaic\n",
    "import seaborn as sns\n"
   ]
  },
  {
   "cell_type": "code",
   "execution_count": 2,
   "metadata": {},
   "outputs": [],
   "source": [
    "class CList:\n",
    "    def __init__(self, start, stop, step):\n",
    "        self.start = start\n",
    "        self.stop = stop\n",
    "        self.step = step\n",
    "    def __iter__(self):\n",
    "        self.c = self.start\n",
    "        return self\n",
    "    def __next__(self):\n",
    "        if self.c <= self.stop:\n",
    "            x = self.c\n",
    "            self.c += self.step\n",
    "            return x\n",
    "        else:\n",
    "            raise StopIteration"
   ]
  },
  {
   "cell_type": "code",
   "execution_count": 3,
   "metadata": {},
   "outputs": [],
   "source": [
    "# Reading the Dataset\n",
    "data = pd.read_csv('features.csv', index_col = 'match_id')"
   ]
  },
  {
   "cell_type": "code",
   "execution_count": 4,
   "metadata": {},
   "outputs": [
    {
     "data": {
      "text/html": [
       "<div>\n",
       "<style scoped>\n",
       "    .dataframe tbody tr th:only-of-type {\n",
       "        vertical-align: middle;\n",
       "    }\n",
       "\n",
       "    .dataframe tbody tr th {\n",
       "        vertical-align: top;\n",
       "    }\n",
       "\n",
       "    .dataframe thead th {\n",
       "        text-align: right;\n",
       "    }\n",
       "</style>\n",
       "<table border=\"1\" class=\"dataframe\">\n",
       "  <thead>\n",
       "    <tr style=\"text-align: right;\">\n",
       "      <th></th>\n",
       "      <th>start_time</th>\n",
       "      <th>lobby_type</th>\n",
       "      <th>r1_hero</th>\n",
       "      <th>r1_level</th>\n",
       "      <th>r1_xp</th>\n",
       "      <th>r1_gold</th>\n",
       "      <th>r1_lh</th>\n",
       "      <th>r1_kills</th>\n",
       "      <th>r1_deaths</th>\n",
       "      <th>r1_items</th>\n",
       "      <th>...</th>\n",
       "      <th>dire_boots_count</th>\n",
       "      <th>dire_ward_observer_count</th>\n",
       "      <th>dire_ward_sentry_count</th>\n",
       "      <th>dire_first_ward_time</th>\n",
       "      <th>duration</th>\n",
       "      <th>radiant_win</th>\n",
       "      <th>tower_status_radiant</th>\n",
       "      <th>tower_status_dire</th>\n",
       "      <th>barracks_status_radiant</th>\n",
       "      <th>barracks_status_dire</th>\n",
       "    </tr>\n",
       "    <tr>\n",
       "      <th>match_id</th>\n",
       "      <th></th>\n",
       "      <th></th>\n",
       "      <th></th>\n",
       "      <th></th>\n",
       "      <th></th>\n",
       "      <th></th>\n",
       "      <th></th>\n",
       "      <th></th>\n",
       "      <th></th>\n",
       "      <th></th>\n",
       "      <th></th>\n",
       "      <th></th>\n",
       "      <th></th>\n",
       "      <th></th>\n",
       "      <th></th>\n",
       "      <th></th>\n",
       "      <th></th>\n",
       "      <th></th>\n",
       "      <th></th>\n",
       "      <th></th>\n",
       "      <th></th>\n",
       "    </tr>\n",
       "  </thead>\n",
       "  <tbody>\n",
       "    <tr>\n",
       "      <th>0</th>\n",
       "      <td>1430198770</td>\n",
       "      <td>7</td>\n",
       "      <td>11</td>\n",
       "      <td>5</td>\n",
       "      <td>2098</td>\n",
       "      <td>1489</td>\n",
       "      <td>20</td>\n",
       "      <td>0</td>\n",
       "      <td>0</td>\n",
       "      <td>7</td>\n",
       "      <td>...</td>\n",
       "      <td>4</td>\n",
       "      <td>2</td>\n",
       "      <td>2</td>\n",
       "      <td>-52.0</td>\n",
       "      <td>2874</td>\n",
       "      <td>1</td>\n",
       "      <td>1796</td>\n",
       "      <td>0</td>\n",
       "      <td>51</td>\n",
       "      <td>0</td>\n",
       "    </tr>\n",
       "    <tr>\n",
       "      <th>1</th>\n",
       "      <td>1430220345</td>\n",
       "      <td>0</td>\n",
       "      <td>42</td>\n",
       "      <td>4</td>\n",
       "      <td>1188</td>\n",
       "      <td>1033</td>\n",
       "      <td>9</td>\n",
       "      <td>0</td>\n",
       "      <td>1</td>\n",
       "      <td>12</td>\n",
       "      <td>...</td>\n",
       "      <td>4</td>\n",
       "      <td>3</td>\n",
       "      <td>1</td>\n",
       "      <td>-5.0</td>\n",
       "      <td>2463</td>\n",
       "      <td>1</td>\n",
       "      <td>1974</td>\n",
       "      <td>0</td>\n",
       "      <td>63</td>\n",
       "      <td>1</td>\n",
       "    </tr>\n",
       "    <tr>\n",
       "      <th>2</th>\n",
       "      <td>1430227081</td>\n",
       "      <td>7</td>\n",
       "      <td>33</td>\n",
       "      <td>4</td>\n",
       "      <td>1319</td>\n",
       "      <td>1270</td>\n",
       "      <td>22</td>\n",
       "      <td>0</td>\n",
       "      <td>0</td>\n",
       "      <td>12</td>\n",
       "      <td>...</td>\n",
       "      <td>4</td>\n",
       "      <td>3</td>\n",
       "      <td>1</td>\n",
       "      <td>13.0</td>\n",
       "      <td>2130</td>\n",
       "      <td>0</td>\n",
       "      <td>0</td>\n",
       "      <td>1830</td>\n",
       "      <td>0</td>\n",
       "      <td>63</td>\n",
       "    </tr>\n",
       "    <tr>\n",
       "      <th>3</th>\n",
       "      <td>1430263531</td>\n",
       "      <td>1</td>\n",
       "      <td>29</td>\n",
       "      <td>4</td>\n",
       "      <td>1779</td>\n",
       "      <td>1056</td>\n",
       "      <td>14</td>\n",
       "      <td>0</td>\n",
       "      <td>0</td>\n",
       "      <td>5</td>\n",
       "      <td>...</td>\n",
       "      <td>4</td>\n",
       "      <td>2</td>\n",
       "      <td>0</td>\n",
       "      <td>27.0</td>\n",
       "      <td>1459</td>\n",
       "      <td>0</td>\n",
       "      <td>1920</td>\n",
       "      <td>2047</td>\n",
       "      <td>50</td>\n",
       "      <td>63</td>\n",
       "    </tr>\n",
       "    <tr>\n",
       "      <th>4</th>\n",
       "      <td>1430282290</td>\n",
       "      <td>7</td>\n",
       "      <td>13</td>\n",
       "      <td>4</td>\n",
       "      <td>1431</td>\n",
       "      <td>1090</td>\n",
       "      <td>8</td>\n",
       "      <td>1</td>\n",
       "      <td>0</td>\n",
       "      <td>8</td>\n",
       "      <td>...</td>\n",
       "      <td>3</td>\n",
       "      <td>3</td>\n",
       "      <td>0</td>\n",
       "      <td>-16.0</td>\n",
       "      <td>2449</td>\n",
       "      <td>0</td>\n",
       "      <td>4</td>\n",
       "      <td>1974</td>\n",
       "      <td>3</td>\n",
       "      <td>63</td>\n",
       "    </tr>\n",
       "  </tbody>\n",
       "</table>\n",
       "<p>5 rows × 108 columns</p>\n",
       "</div>"
      ],
      "text/plain": [
       "          start_time  lobby_type  r1_hero  r1_level  r1_xp  r1_gold  r1_lh  \\\n",
       "match_id                                                                     \n",
       "0         1430198770           7       11         5   2098     1489     20   \n",
       "1         1430220345           0       42         4   1188     1033      9   \n",
       "2         1430227081           7       33         4   1319     1270     22   \n",
       "3         1430263531           1       29         4   1779     1056     14   \n",
       "4         1430282290           7       13         4   1431     1090      8   \n",
       "\n",
       "          r1_kills  r1_deaths  r1_items  ...  dire_boots_count  \\\n",
       "match_id                                 ...                     \n",
       "0                0          0         7  ...                 4   \n",
       "1                0          1        12  ...                 4   \n",
       "2                0          0        12  ...                 4   \n",
       "3                0          0         5  ...                 4   \n",
       "4                1          0         8  ...                 3   \n",
       "\n",
       "          dire_ward_observer_count  dire_ward_sentry_count  \\\n",
       "match_id                                                     \n",
       "0                                2                       2   \n",
       "1                                3                       1   \n",
       "2                                3                       1   \n",
       "3                                2                       0   \n",
       "4                                3                       0   \n",
       "\n",
       "          dire_first_ward_time  duration  radiant_win  tower_status_radiant  \\\n",
       "match_id                                                                      \n",
       "0                        -52.0      2874            1                  1796   \n",
       "1                         -5.0      2463            1                  1974   \n",
       "2                         13.0      2130            0                     0   \n",
       "3                         27.0      1459            0                  1920   \n",
       "4                        -16.0      2449            0                     4   \n",
       "\n",
       "          tower_status_dire  barracks_status_radiant  barracks_status_dire  \n",
       "match_id                                                                    \n",
       "0                         0                       51                     0  \n",
       "1                         0                       63                     1  \n",
       "2                      1830                        0                    63  \n",
       "3                      2047                       50                    63  \n",
       "4                      1974                        3                    63  \n",
       "\n",
       "[5 rows x 108 columns]"
      ]
     },
     "execution_count": 4,
     "metadata": {},
     "output_type": "execute_result"
    }
   ],
   "source": [
    "data.head()"
   ]
  },
  {
   "cell_type": "code",
   "execution_count": 5,
   "metadata": {},
   "outputs": [],
   "source": [
    "# Removing all the unnecessary columns from the dataset\n",
    "columns_to_drop = ['tower_status_radiant', 'duration', 'tower_status_dire', 'barracks_status_radiant', 'barracks_status_dire']\n",
    "\n",
    "data = data.drop(columns_to_drop, axis=1)"
   ]
  },
  {
   "cell_type": "code",
   "execution_count": 6,
   "metadata": {},
   "outputs": [
    {
     "data": {
      "text/plain": [
       "['first_blood_time',\n",
       " 'first_blood_team',\n",
       " 'first_blood_player1',\n",
       " 'first_blood_player2',\n",
       " 'radiant_bottle_time',\n",
       " 'radiant_courier_time',\n",
       " 'radiant_flying_courier_time',\n",
       " 'radiant_first_ward_time',\n",
       " 'dire_bottle_time',\n",
       " 'dire_courier_time',\n",
       " 'dire_flying_courier_time',\n",
       " 'dire_first_ward_time']"
      ]
     },
     "execution_count": 6,
     "metadata": {},
     "output_type": "execute_result"
    }
   ],
   "source": [
    "values_full = data.count()\n",
    "rows_quantity = data.shape[0]\n",
    "columns_with_empty = []\n",
    "for column, length in values_full.iteritems():\n",
    "    if rows_quantity - length > 0:\n",
    "        columns_with_empty.append(column)\n",
    "columns_with_empty"
   ]
  },
  {
   "cell_type": "code",
   "execution_count": 7,
   "metadata": {},
   "outputs": [],
   "source": [
    "# These columns do not always occur, so missing values are filled with 0.\n",
    "value = 0\n",
    "data[columns_with_empty] = data[columns_with_empty].fillna(value=value, inplace=False)"
   ]
  },
  {
   "cell_type": "code",
   "execution_count": 8,
   "metadata": {},
   "outputs": [],
   "source": [
    "y = data[[\"radiant_win\"]].values.ravel()\n",
    "X = data.drop([\"radiant_win\"], axis=1).values"
   ]
  },
  {
   "cell_type": "code",
   "execution_count": 9,
   "metadata": {},
   "outputs": [],
   "source": [
    "x_data = data.drop([\"radiant_win\"], axis=1)"
   ]
  },
  {
   "cell_type": "code",
   "execution_count": 10,
   "metadata": {},
   "outputs": [
    {
     "data": {
      "text/plain": [
       "array([[-2.54436416,  1.54068827, -1.24422828, ..., -0.55115386,\n",
       "         1.84600409, -1.12149424],\n",
       "       [-2.54045236, -0.92779756, -0.29225805, ...,  0.67817009,\n",
       "         0.43778816,  0.04394713],\n",
       "       [-2.53923104,  1.54068827, -0.5686365 , ...,  0.67817009,\n",
       "         0.43778816,  0.49028637],\n",
       "       ...,\n",
       "       [ 1.09874571, -0.57515673,  1.42743012, ...,  0.67817009,\n",
       "         0.43778816, -0.20401912],\n",
       "       [ 1.09895204, -0.57515673,  1.48884755, ...,  0.67817009,\n",
       "         0.43778816, -0.87352799],\n",
       "       [ 1.1026479 ,  1.54068827, -0.04658831, ..., -0.55115386,\n",
       "        -0.97042777, -0.79913812]])"
      ]
     },
     "execution_count": 10,
     "metadata": {},
     "output_type": "execute_result"
    }
   ],
   "source": [
    "# Data must be scaled as logistic regression is sensitive to outliers\n",
    "def scale_data(X_train):\n",
    "    scaler = StandardScaler()\n",
    "    scaler.fit(X_train)\n",
    "    StandardScaler(copy=True, with_mean=True, with_std=True)\n",
    "    X_train = scaler.transform(X_train)\n",
    "    return X_train\n",
    "\n",
    "X_scaled = scale_data(X)\n",
    "X_scaled"
   ]
  },
  {
   "cell_type": "code",
   "execution_count": 11,
   "metadata": {},
   "outputs": [],
   "source": [
    "\n",
    "def process_lr(kf, X, y, c_list_iterator):\n",
    "    qualities = []\n",
    "    for i, c in enumerate(c_list_iterator):\n",
    "        start_time = datetime.datetime.now()\n",
    "        clf = LogisticRegression(penalty='l2', C=c, solver=\"lbfgs\", max_iter=200)\n",
    "        qualities_c = []\n",
    "        for train_index, test_index in kf.split(X):\n",
    "            x_train, x_test = X[train_index], X[test_index]\n",
    "            y_train, y_test = y[train_index], y[test_index]\n",
    "\n",
    "            clf = clf.fit(x_train, y_train)\n",
    "            predictions = clf.predict_proba(x_test)[:, 1]\n",
    "            qualities_c.append(roc_auc_score(y_test, predictions))\n",
    "\n",
    "        mean_quality = round(np.mean(qualities_c), 5)\n",
    "        qualities.append(mean_quality)\n",
    "\n",
    "        # print(\"C: \" + str(c))\n",
    "        print('Time:', datetime.datetime.now() - start_time)\n",
    "        # print(\"Quality AUC-ROC: \" + str(mean_quality))\n",
    "        # print(\"-\")\n",
    "\n",
    "    return qualities\n",
    "\n",
    "def get_best_quality_c(qualities, start, step):\n",
    "    max_q = max(qualities)\n",
    "    best_c = (qualities.index(max_q) * step) + start\n",
    "    return max_q, best_c"
   ]
  },
  {
   "cell_type": "code",
   "execution_count": 12,
   "metadata": {},
   "outputs": [
    {
     "name": "stdout",
     "output_type": "stream",
     "text": [
      "Time: 0:00:03.968966\n",
      "Time: 0:00:04.111005\n",
      "Time: 0:00:04.741319\n",
      "Time: 0:00:04.758272\n",
      "Time: 0:00:04.284540\n",
      "Time: 0:00:04.449098\n",
      "Time: 0:00:04.452091\n",
      "Time: 0:00:04.307480\n",
      "Time: 0:00:04.744310\n",
      "Time: 0:00:04.849600\n",
      "Time: 0:00:05.015493\n",
      "Time: 0:00:04.415886\n",
      "Time: 0:00:04.294513\n",
      "Time: 0:00:04.271574\n",
      "Time: 0:00:04.038199\n",
      "Max quality:  0.71655\n",
      "Max quality C:  1.2\n"
     ]
    }
   ],
   "source": [
    "\n",
    "kf = KFold(n_splits=5, shuffle=True)\n",
    "start, stop, step = 1, 4, 0.2\n",
    "c_list_iterator = iter(CList(start, stop, step))\n",
    "\n",
    "qualities = process_lr(kf, X_scaled, y, c_list_iterator)\n",
    "max_q, best_c = get_best_quality_c(qualities, start, step)\n",
    "\n",
    "print(\"Max quality: \", max_q)\n",
    "print(\"Max quality C: \", best_c)\n"
   ]
  },
  {
   "cell_type": "code",
   "execution_count": 13,
   "metadata": {},
   "outputs": [],
   "source": [
    "# Removing columns with categorical features\n",
    "x_data_cat_dropped = x_data.drop(['lobby_type'], axis=1)\n",
    "for i in range(1, 6):\n",
    "    x_data_cat_dropped = x_data_cat_dropped.drop([\"r\" + str(i) + \"_hero\"], axis=1)\n",
    "    x_data_cat_dropped = x_data_cat_dropped.drop([\"d\" + str(i) + \"_hero\"], axis=1)"
   ]
  },
  {
   "cell_type": "code",
   "execution_count": 14,
   "metadata": {},
   "outputs": [
    {
     "name": "stdout",
     "output_type": "stream",
     "text": [
      "Time: 0:00:03.782884\n",
      "Time: 0:00:04.268581\n",
      "Time: 0:00:04.550827\n",
      "Time: 0:00:04.094049\n",
      "Time: 0:00:03.907546\n",
      "Time: 0:00:03.810808\n",
      "Time: 0:00:03.958412\n",
      "Time: 0:00:03.738998\n",
      "Time: 0:00:03.822775\n",
      "Time: 0:00:04.159874\n",
      "Time: 0:00:04.030219\n",
      "Time: 0:00:04.401228\n",
      "Time: 0:00:04.184805\n",
      "Time: 0:00:04.077094\n",
      "Time: 0:00:04.245644\n",
      "Max quality:  0.71662\n",
      "Max quality C:  1.4\n"
     ]
    }
   ],
   "source": [
    "# Scale data, cross-validate with parameter selection\n",
    "X_cat_dropped_scaled = scale_data(x_data_cat_dropped.values)\n",
    "\n",
    "qualities = process_lr(kf, X_cat_dropped_scaled, y, c_list_iterator)\n",
    "max_q, best_c = get_best_quality_c(qualities, start, step)\n",
    "\n",
    "print(\"Max quality: \", max_q)\n",
    "print(\"Max quality C: \", best_c)"
   ]
  },
  {
   "cell_type": "code",
   "execution_count": 15,
   "metadata": {},
   "outputs": [
    {
     "name": "stdout",
     "output_type": "stream",
     "text": [
      "Unic heroes: [1, 2, 3, 4, 5, 6, 7, 8, 9, 10, 11, 12, 13, 14, 15, 16, 17, 18, 19, 20, 21, 22, 23, 25, 26, 27, 28, 29, 30, 31, 32, 33, 34, 35, 36, 37, 38, 39, 40, 41, 42, 43, 44, 45, 46, 47, 48, 49, 50, 51, 52, 53, 54, 55, 56, 57, 58, 59, 60, 61, 62, 63, 64, 65, 66, 67, 68, 69, 70, 71, 72, 73, 74, 75, 76, 77, 78, 79, 80, 81, 82, 83, 84, 85, 86, 87, 88, 89, 90, 91, 92, 93, 94, 95, 96, 97, 98, 99, 100, 101, 102, 103, 104, 105, 106, 109, 110, 112]\n",
      "Unic heroes id quantity: 108\n"
     ]
    }
   ],
   "source": [
    "hero_columns = []\n",
    "for i in range(1, 6):\n",
    "    hero_columns.append(\"r\" + str(i) + \"_hero\")\n",
    "    hero_columns.append(\"d\" + str(i) + \"_hero\")\n",
    "unic_ids = pd.unique(data[hero_columns].values.ravel())\n",
    "heroes_quantity = len(unic_ids)\n",
    "print(\"Unic heroes:\", sorted(unic_ids))\n",
    "print(\"Unic heroes id quantity:\", heroes_quantity)"
   ]
  },
  {
   "cell_type": "code",
   "execution_count": 16,
   "metadata": {},
   "outputs": [],
   "source": [
    "def process_categorial(heroes_quantity, x_data, X):\n",
    "    X_pick = np.zeros((x_data.shape[0], heroes_quantity + 4))\n",
    "\n",
    "    for i, match_id in enumerate(x_data.index):\n",
    "        for p in range(5):\n",
    "            X_pick[i, x_data.loc[match_id, 'r%d_hero' % (p + 1)] - 1] = 1\n",
    "            X_pick[i, x_data.loc[match_id, 'd%d_hero' % (p + 1)] - 1] = -1\n",
    "    return np.hstack((X, X_pick))\n",
    "\n",
    "X = process_categorial(heroes_quantity, x_data, X_scaled)"
   ]
  },
  {
   "cell_type": "code",
   "execution_count": 17,
   "metadata": {},
   "outputs": [
    {
     "name": "stdout",
     "output_type": "stream",
     "text": [
      "Time: 0:00:18.475581\n",
      "Time: 0:00:16.677390\n",
      "Time: 0:00:16.862894\n",
      "Time: 0:00:18.692002\n",
      "Time: 0:00:19.131827\n",
      "Time: 0:00:19.006265\n",
      "Time: 0:00:19.625570\n",
      "Time: 0:00:19.372990\n",
      "Time: 0:00:19.827351\n",
      "Time: 0:00:19.911739\n",
      "Time: 0:00:16.688361\n",
      "Time: 0:00:17.355577\n",
      "Time: 0:00:17.243874\n",
      "Time: 0:00:17.667742\n",
      "Time: 0:00:18.949313\n",
      "Max quality:  0.75215\n",
      "Max quality C:  2.8\n"
     ]
    }
   ],
   "source": [
    "qualities = process_lr(kf, X, y, c_list_iterator)\n",
    "max_q, best_c = get_best_quality_c(qualities, start, step)\n",
    "\n",
    "print(\"Max quality: \", max_q)\n",
    "print(\"Max quality C: \", best_c)"
   ]
  },
  {
   "cell_type": "code",
   "execution_count": 18,
   "metadata": {},
   "outputs": [
    {
     "data": {
      "text/plain": [
       "['lr.joblib']"
      ]
     },
     "execution_count": 18,
     "metadata": {},
     "output_type": "execute_result"
    }
   ],
   "source": [
    "lr = LogisticRegression(penalty='l2', C=best_c, solver=\"lbfgs\", max_iter=200)\n",
    "for train_index, test_index in kf.split(X):\n",
    "        x_train, x_test = X[train_index], X[test_index]\n",
    "        y_train, y_test = y[train_index], y[test_index]\n",
    "\n",
    "        lr = lr.fit(x_train, y_train)\n",
    "dump(lr, \"lr.joblib\")"
   ]
  },
  {
   "cell_type": "code",
   "execution_count": 19,
   "metadata": {},
   "outputs": [],
   "source": [
    "def prepare_test_data_lr():\n",
    "    # Reading the test dataset\n",
    "    data = pd.read_csv('./features_test.csv', index_col='match_id')\n",
    "   # Fill in missing calues\n",
    "    data[columns_with_empty] = data[columns_with_empty].fillna(value=0, inplace=False)\n",
    "    # Scale data\n",
    "    X_scaled = scale_data(data.values)\n",
    "    X = process_categorial(108, data, X_scaled)\n",
    "    return X, data\n",
    "\n",
    "def test_lr(X, data):\n",
    "    # Load the Logistic regression model which we saved earlier\n",
    "    clf = load(\"lr.joblib\")\n",
    "    predictions_df = pd.DataFrame(clf.predict_proba(X))\n",
    "    predictions_df.columns = ['dire_win', 'radiant_win']\n",
    "    predictions_df.index = data.index\n",
    "    print(predictions_df.head())\n",
    "    print(\"Mean:\\n\", predictions_df.mean())\n",
    "    print(\"Max prob. radiant win: \", max(predictions_df['radiant_win']))  \n",
    "    print(\"Min prob. radiant win: \", min(predictions_df['radiant_win']))\n",
    "    result = predictions_df.drop(['dire_win'], axis=1)\n",
    "    result.to_csv('./result.csv')"
   ]
  },
  {
   "cell_type": "code",
   "execution_count": 20,
   "metadata": {},
   "outputs": [
    {
     "name": "stdout",
     "output_type": "stream",
     "text": [
      "          dire_win  radiant_win\n",
      "match_id                       \n",
      "6         0.191766     0.808234\n",
      "7         0.240165     0.759835\n",
      "10        0.812790     0.187210\n",
      "13        0.134908     0.865092\n",
      "16        0.772465     0.227535\n",
      "Mean:\n",
      " dire_win       0.482334\n",
      "radiant_win    0.517666\n",
      "dtype: float64\n",
      "Max prob. radiant win:  0.9966908904528313\n",
      "Min prob. radiant win:  0.007824167662299122\n"
     ]
    }
   ],
   "source": [
    "X, data = prepare_test_data_lr()\n",
    "test_lr(X, data)"
   ]
  },
  {
   "cell_type": "code",
   "execution_count": null,
   "metadata": {},
   "outputs": [],
   "source": []
  }
 ],
 "metadata": {
  "kernelspec": {
   "display_name": "Python 3",
   "language": "python",
   "name": "python3"
  },
  "language_info": {
   "codemirror_mode": {
    "name": "ipython",
    "version": 3
   },
   "file_extension": ".py",
   "mimetype": "text/x-python",
   "name": "python",
   "nbconvert_exporter": "python",
   "pygments_lexer": "ipython3",
   "version": "3.7.6"
  }
 },
 "nbformat": 4,
 "nbformat_minor": 4
}
